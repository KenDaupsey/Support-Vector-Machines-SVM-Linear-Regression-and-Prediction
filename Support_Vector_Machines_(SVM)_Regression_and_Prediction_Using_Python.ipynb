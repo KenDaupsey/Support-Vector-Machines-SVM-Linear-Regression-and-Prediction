{
  "nbformat": 4,
  "nbformat_minor": 0,
  "metadata": {
    "colab": {
      "provenance": [],
      "authorship_tag": "ABX9TyNI/NSbxP1AnM1KkLK8o6jB",
      "include_colab_link": true
    },
    "kernelspec": {
      "name": "python3",
      "display_name": "Python 3"
    },
    "language_info": {
      "name": "python"
    }
  },
  "cells": [
    {
      "cell_type": "markdown",
      "metadata": {
        "id": "view-in-github",
        "colab_type": "text"
      },
      "source": [
        "<a href=\"https://colab.research.google.com/github/KenDaupsey/Support-Vector-Machines-SVM-Linear-Regression-and-Prediction/blob/main/Support_Vector_Machines_(SVM)_Regression_and_Prediction_Using_Python.ipynb\" target=\"_parent\"><img src=\"https://colab.research.google.com/assets/colab-badge.svg\" alt=\"Open In Colab\"/></a>"
      ]
    },
    {
      "cell_type": "markdown",
      "source": [
        "*** Support Vector Machines (SVM) Regression and Prediction ***"
      ],
      "metadata": {
        "id": "AXez7Gg5yy16"
      }
    },
    {
      "cell_type": "code",
      "source": [
        "###Support Vector Machines (SVM) Regression and Prediction Using Python\n",
        "\n",
        "### Import Necessary Libraries\n",
        "import pandas as pd\n",
        "from sklearn.model_selection import train_test_split\n",
        "from sklearn.svm import SVR\n",
        "from sklearn.metrics import mean_squared_error\n",
        "\n",
        "#Load dataset\n",
        "# import pandas as pd\n",
        "url= \"https://raw.githubusercontent.com/KenDaupsey/Decision-Tree-Linear-Regression-and-Prediction-/main/hsb2%7Edata.csv\"\n",
        "df= pd.read_csv(url)\n",
        "df.head()\n",
        "\n",
        "\n",
        "# Select features and target variable\n",
        "features = ['read', 'write']\n",
        "target = 'math'\n",
        "\n",
        "X = df[features]\n",
        "y = df[target]\n",
        "\n",
        "# Split the data into training and testing sets\n",
        "X_train, X_test, y_train, y_test = train_test_split(X, y, test_size=0.2, random_state=42)\n",
        "\n",
        "# Build the SVM model\n",
        "svm_model = SVR()\n",
        "svm_model.fit(X_train, y_train)\n",
        "\n",
        "# Make predictions on the test set\n",
        "y_pred = svm_model.predict(X_test)\n",
        "\n",
        "# Evaluate the model (you can use other metrics based on your specific goals)\n",
        "mse = mean_squared_error(y_test, y_pred)\n",
        "print(f'Mean Squared Error: {mse}')\n",
        "\n",
        "# Make a prediction for a new data point\n",
        "new_data_point_svm = pd.DataFrame({'read': [80], 'write': [75]})\n",
        "svm_prediction = svm_model.predict(new_data_point_svm)\n",
        "print(f\"Prediction using SVM: {svm_prediction[0]}\")"
      ],
      "metadata": {
        "colab": {
          "base_uri": "https://localhost:8080/"
        },
        "id": "SfZZsF8zy0sy",
        "outputId": "0a29d426-4c72-4b44-ba01-49e373da9354"
      },
      "execution_count": 2,
      "outputs": [
        {
          "output_type": "stream",
          "name": "stdout",
          "text": [
            "Mean Squared Error: 30.17680393818902\n",
            "Prediction using SVM: 55.06930301503121\n"
          ]
        }
      ]
    },
    {
      "cell_type": "code",
      "source": [],
      "metadata": {
        "id": "CdN5jrtK0cMS"
      },
      "execution_count": null,
      "outputs": []
    }
  ]
}